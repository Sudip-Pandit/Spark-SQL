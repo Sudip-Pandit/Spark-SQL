{
 "cells": [
  {
   "cell_type": "code",
   "execution_count": 1,
   "id": "57de4ae6",
   "metadata": {},
   "outputs": [],
   "source": [
    "from pyspark.sql import SparkSession"
   ]
  },
  {
   "cell_type": "code",
   "execution_count": 2,
   "id": "cc285bbc",
   "metadata": {},
   "outputs": [],
   "source": [
    "spark = SparkSession.builder.appName(\"Filter Operations\").master(\"local[*]\").getOrCreate()"
   ]
  },
  {
   "cell_type": "code",
   "execution_count": 3,
   "id": "c3f0dca6",
   "metadata": {},
   "outputs": [],
   "source": [
    "df = spark.read.csv(\"movies.csv\", header=True)"
   ]
  },
  {
   "cell_type": "code",
   "execution_count": 4,
   "id": "57351e83",
   "metadata": {},
   "outputs": [
    {
     "name": "stdout",
     "output_type": "stream",
     "text": [
      "+--------------------+---------+--------------------+----------------+-------------+-----------------+---------------+----+\n",
      "|                Film|    Genre|         Lead Studio|Audience score %|Profitability|Rotten Tomatoes %|Worldwide Gross|Year|\n",
      "+--------------------+---------+--------------------+----------------+-------------+-----------------+---------------+----+\n",
      "|Zack and Miri Mak...|  Romance|The Weinstein Com...|              70|  1.747541667|               64|        $41.94 |2008|\n",
      "|     Youth in Revolt|   Comedy|The Weinstein Com...|              52|         1.09|               68|        $19.62 |2010|\n",
      "|You Will Meet a T...|   Comedy|         Independent|              35|  1.211818182|               43|        $26.66 |2010|\n",
      "|        When in Rome|   Comedy|              Disney|              44|            0|               15|        $43.04 |2010|\n",
      "|What Happens in V...|   Comedy|                 Fox|              72|  6.267647029|               28|       $219.37 |2008|\n",
      "| Water For Elephants|    Drama|    20th Century Fox|              72|  3.081421053|               60|       $117.09 |2011|\n",
      "|              WALL-E|Animation|              Disney|              89|  2.896019067|               96|       $521.28 |2008|\n",
      "|            Waitress|  Romance|         Independent|              67|   11.0897415|               89|        $22.18 |2007|\n",
      "| Waiting For Forever|  Romance|         Independent|              53|        0.005|                6|         $0.03 |2011|\n",
      "|     Valentine's Day|   Comedy|        Warner Bros.|              54|  4.184038462|               17|       $217.57 |2010|\n",
      "+--------------------+---------+--------------------+----------------+-------------+-----------------+---------------+----+\n",
      "only showing top 10 rows\n",
      "\n"
     ]
    }
   ],
   "source": [
    "df.show(10)"
   ]
  },
  {
   "cell_type": "code",
   "execution_count": 5,
   "id": "5cdc5345",
   "metadata": {},
   "outputs": [],
   "source": [
    "# Let's change the columns name for easy sql queries\n",
    "df1 = df.withColumnRenamed(\"Lead Studio\", \"lead_studio\") \\\n",
    "     .withColumnRenamed(\"Audience score %\", \"audience_score\") \\\n",
    "     .withColumnRenamed(\"Rotten Tomatoes %\", 'RT') \\\n",
    "     .withColumnRenamed(\"Worldwide Gross\", \"Worldwide_Gross\")"
   ]
  },
  {
   "cell_type": "markdown",
   "id": "8d9d7858",
   "metadata": {},
   "source": [
    "### Filter Conditions"
   ]
  },
  {
   "cell_type": "code",
   "execution_count": 16,
   "id": "7e6bfef8",
   "metadata": {},
   "outputs": [
    {
     "name": "stdout",
     "output_type": "stream",
     "text": [
      "+--------------------+-------+--------------------+----------------+-------------+-----------------+---------------+----+\n",
      "|                Film|  Genre|         Lead Studio|Audience score %|Profitability|Rotten Tomatoes %|Worldwide Gross|Year|\n",
      "+--------------------+-------+--------------------+----------------+-------------+-----------------+---------------+----+\n",
      "|Zack and Miri Mak...|Romance|The Weinstein Com...|              70|  1.747541667|               64|        $41.94 |2008|\n",
      "|            Waitress|Romance|         Independent|              67|   11.0897415|               89|        $22.18 |2007|\n",
      "| Waiting For Forever|Romance|         Independent|              53|        0.005|                6|         $0.03 |2011|\n",
      "|Tyler Perry's Why...|Romance|         Independent|              47|    3.7241924|               46|        $55.86 |2007|\n",
      "|Twilight: Breakin...|Romance|         Independent|              68|  6.383363636|               26|       $702.17 |2011|\n",
      "+--------------------+-------+--------------------+----------------+-------------+-----------------+---------------+----+\n",
      "only showing top 5 rows\n",
      "\n"
     ]
    }
   ],
   "source": [
    "df_filter1 = df.filter(df.Genre.startswith(\"R\")).show(5)"
   ]
  },
  {
   "cell_type": "code",
   "execution_count": 17,
   "id": "8083f157",
   "metadata": {},
   "outputs": [
    {
     "name": "stdout",
     "output_type": "stream",
     "text": [
      "+--------------------+-------+--------------------+--------------+-------------+---+---------------+----+\n",
      "|                Film|  Genre|         lead_studio|audience_score|Profitability| RT|Worldwide_Gross|Year|\n",
      "+--------------------+-------+--------------------+--------------+-------------+---+---------------+----+\n",
      "|Zack and Miri Mak...|Romance|The Weinstein Com...|            70|  1.747541667| 64|        $41.94 |2008|\n",
      "|            Waitress|Romance|         Independent|            67|   11.0897415| 89|        $22.18 |2007|\n",
      "| Waiting For Forever|Romance|         Independent|            53|        0.005|  6|         $0.03 |2011|\n",
      "|Tyler Perry's Why...|Romance|         Independent|            47|    3.7241924| 46|        $55.86 |2007|\n",
      "|Twilight: Breakin...|Romance|         Independent|            68|  6.383363636| 26|       $702.17 |2011|\n",
      "+--------------------+-------+--------------------+--------------+-------------+---+---------------+----+\n",
      "only showing top 5 rows\n",
      "\n"
     ]
    }
   ],
   "source": [
    "df_filter2 = df1.filter(df.Genre.startswith(\"R\")).show(5)"
   ]
  },
  {
   "cell_type": "code",
   "execution_count": 20,
   "id": "0405181f",
   "metadata": {},
   "outputs": [
    {
     "name": "stdout",
     "output_type": "stream",
     "text": [
      "+--------------------+-------+-----------+--------------+-------------+---+---------------+----+\n",
      "|                Film|  Genre|lead_studio|audience_score|Profitability| RT|Worldwide_Gross|Year|\n",
      "+--------------------+-------+-----------+--------------+-------------+---+---------------+----+\n",
      "|            Waitress|Romance|Independent|            67|   11.0897415| 89|        $22.18 |2007|\n",
      "| Waiting For Forever|Romance|Independent|            53|        0.005|  6|         $0.03 |2011|\n",
      "|Tyler Perry's Why...|Romance|Independent|            47|    3.7241924| 46|        $55.86 |2007|\n",
      "|Twilight: Breakin...|Romance|Independent|            68|  6.383363636| 26|       $702.17 |2011|\n",
      "|  Something Borrowed|Romance|Independent|            48|  1.719514286| 15|        $60.18 |2011|\n",
      "+--------------------+-------+-----------+--------------+-------------+---+---------------+----+\n",
      "only showing top 5 rows\n",
      "\n"
     ]
    }
   ],
   "source": [
    "df_filter2 = df1.filter(df1.Genre.startswith(\"R\")).filter(df1.lead_studio.startswith(\"I\")).show(5)"
   ]
  },
  {
   "cell_type": "code",
   "execution_count": 26,
   "id": "1d9cc5b4",
   "metadata": {},
   "outputs": [
    {
     "name": "stdout",
     "output_type": "stream",
     "text": [
      "+--------+-------+-----------+--------------+-------------+---+---------------+----+\n",
      "|    Film|  Genre|lead_studio|audience_score|Profitability| RT|Worldwide_Gross|Year|\n",
      "+--------+-------+-----------+--------------+-------------+---+---------------+----+\n",
      "|Waitress|Romance|Independent|            67|   11.0897415| 89|        $22.18 |2007|\n",
      "+--------+-------+-----------+--------------+-------------+---+---------------+----+\n",
      "\n"
     ]
    }
   ],
   "source": [
    "df_filter3 = df1.filter(df1.Genre.startswith(\"R\")).filter(df1.lead_studio.startswith(\"I\")) \\\n",
    "            .filter(df1.audience_score == 67).show(5)"
   ]
  },
  {
   "cell_type": "code",
   "execution_count": 31,
   "id": "f76a1478",
   "metadata": {},
   "outputs": [
    {
     "name": "stdout",
     "output_type": "stream",
     "text": [
      "+--------------------+------+--------------------+--------------+-------------+---+---------------+----+\n",
      "|                Film| Genre|         lead_studio|audience_score|Profitability| RT|Worldwide_Gross|Year|\n",
      "+--------------------+------+--------------------+--------------+-------------+---+---------------+----+\n",
      "|     Youth in Revolt|Comedy|The Weinstein Com...|            52|         1.09| 68|        $19.62 |2010|\n",
      "|You Will Meet a T...|Comedy|         Independent|            35|  1.211818182| 43|        $26.66 |2010|\n",
      "|        When in Rome|Comedy|              Disney|            44|            0| 15|        $43.04 |2010|\n",
      "|     Valentine's Day|Comedy|        Warner Bros.|            54|  4.184038462| 17|       $217.57 |2010|\n",
      "|    The Back-up Plan|Comedy|                 CBS|            47|  2.202571429| 20|        $77.09 |2010|\n",
      "+--------------------+------+--------------------+--------------+-------------+---+---------------+----+\n",
      "only showing top 5 rows\n",
      "\n"
     ]
    }
   ],
   "source": [
    "df_filter_date = df1.filter(df1.Year== \"2010\").show(5)"
   ]
  },
  {
   "cell_type": "code",
   "execution_count": 33,
   "id": "2c31f3da",
   "metadata": {},
   "outputs": [
    {
     "name": "stdout",
     "output_type": "stream",
     "text": [
      "+--------------------+------+--------------------+--------------+-------------+---+---------------+----+\n",
      "|                Film| Genre|         lead_studio|audience_score|Profitability| RT|Worldwide_Gross|Year|\n",
      "+--------------------+------+--------------------+--------------+-------------+---+---------------+----+\n",
      "|     Youth in Revolt|Comedy|The Weinstein Com...|            52|         1.09| 68|        $19.62 |2010|\n",
      "|You Will Meet a T...|Comedy|         Independent|            35|  1.211818182| 43|        $26.66 |2010|\n",
      "|        When in Rome|Comedy|              Disney|            44|            0| 15|        $43.04 |2010|\n",
      "|     Valentine's Day|Comedy|        Warner Bros.|            54|  4.184038462| 17|       $217.57 |2010|\n",
      "|    The Back-up Plan|Comedy|                 CBS|            47|  2.202571429| 20|        $77.09 |2010|\n",
      "+--------------------+------+--------------------+--------------+-------------+---+---------------+----+\n",
      "only showing top 5 rows\n",
      "\n"
     ]
    }
   ],
   "source": [
    "df_filter_date = df1.filter(df1.Year.startswith(\"2010\")).show(5)"
   ]
  }
 ],
 "metadata": {
  "kernelspec": {
   "display_name": "Python 3",
   "language": "python",
   "name": "python3"
  },
  "language_info": {
   "codemirror_mode": {
    "name": "ipython",
    "version": 3
   },
   "file_extension": ".py",
   "mimetype": "text/x-python",
   "name": "python",
   "nbconvert_exporter": "python",
   "pygments_lexer": "ipython3",
   "version": "3.8.8"
  }
 },
 "nbformat": 4,
 "nbformat_minor": 5
}
