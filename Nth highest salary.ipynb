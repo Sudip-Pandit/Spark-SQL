{
 "cells": [
  {
   "cell_type": "code",
   "execution_count": 37,
   "id": "d19c7c94",
   "metadata": {},
   "outputs": [],
   "source": [
    "import findspark\n",
    "findspark.init()"
   ]
  },
  {
   "cell_type": "code",
   "execution_count": 38,
   "id": "ee13ac8f",
   "metadata": {},
   "outputs": [],
   "source": [
    "from pyspark.sql.session import SparkSession"
   ]
  },
  {
   "cell_type": "code",
   "execution_count": 39,
   "id": "3b45fb32",
   "metadata": {},
   "outputs": [],
   "source": [
    "spark = SparkSession.builder.appName('Nth highestSalary').master(\"local[*]\").getOrCreate()"
   ]
  },
  {
   "cell_type": "code",
   "execution_count": 40,
   "id": "be4e91b4",
   "metadata": {},
   "outputs": [
    {
     "name": "stdout",
     "output_type": "stream",
     "text": [
      "root\n",
      " |-- emp_name: string (nullable = true)\n",
      " |-- dep: string (nullable = true)\n",
      " |-- salary: long (nullable = true)\n",
      "\n",
      "+--------+----------+------+\n",
      "|emp_name|       dep|salary|\n",
      "+--------+----------+------+\n",
      "|     Ram|     Sales|  3000|\n",
      "|   Meena|     Sales|  4600|\n",
      "|   Robin|     Sales|  4100|\n",
      "|   Kunal|   Finance|  3000|\n",
      "|     Ram|     Sales|  3000|\n",
      "| Srishti|Management|  3300|\n",
      "|    Jeny|   Finance|  3900|\n",
      "|  Hitesh| Marketing|  3000|\n",
      "| Kailash| Marketing|  2000|\n",
      "|  Sharad|     Sales|  4100|\n",
      "+--------+----------+------+\n",
      "\n"
     ]
    }
   ],
   "source": [
    "# sample data for dataframe\n",
    "data = ((\"Ram\", \"Sales\", 3000),\n",
    "              (\"Meena\", \"Sales\", 4600),\n",
    "              (\"Robin\", \"Sales\", 4100),\n",
    "              (\"Kunal\", \"Finance\", 3000),\n",
    "              (\"Ram\", \"Sales\", 3000),\n",
    "              (\"Srishti\", \"Management\", 3300),\n",
    "              (\"Jeny\", \"Finance\", 3900),\n",
    "              (\"Hitesh\", \"Marketing\", 3000),\n",
    "              (\"Kailash\", \"Marketing\", 2000),\n",
    "              (\"Sharad\", \"Sales\", 4100)\n",
    "              )\n",
    " \n",
    "# column names for dataframe\n",
    "columns = [\"emp_name\", \"dep\", \"salary\"]\n",
    " \n",
    "# creating the dataframe df\n",
    "df3 = spark.createDataFrame(data=data,\n",
    "                            schema=columns)\n",
    " \n",
    "# print schema\n",
    "df3.printSchema()\n",
    " \n",
    "# show df\n",
    "df3.show()"
   ]
  },
  {
   "cell_type": "code",
   "execution_count": 42,
   "id": "d967e4a4",
   "metadata": {},
   "outputs": [],
   "source": [
    "from pyspark.sql.window import Window"
   ]
  },
  {
   "cell_type": "code",
   "execution_count": 43,
   "id": "e0faf702",
   "metadata": {},
   "outputs": [],
   "source": [
    "from pyspark.sql.functions import col, dense_rank, desc"
   ]
  },
  {
   "cell_type": "code",
   "execution_count": 46,
   "id": "6c8d3e59",
   "metadata": {},
   "outputs": [],
   "source": [
    "# creating a window partition of dataframe\n",
    "windowSpec = Window.partitionBy(\"dep\").orderBy(col(\"salary\").desc())"
   ]
  },
  {
   "cell_type": "code",
   "execution_count": 48,
   "id": "b62bd43c",
   "metadata": {},
   "outputs": [],
   "source": [
    "df_salary_rank = df3.withColumn(\"salary_rank\", dense_rank().over(windowSpec))"
   ]
  },
  {
   "cell_type": "code",
   "execution_count": 49,
   "id": "f984850a",
   "metadata": {},
   "outputs": [
    {
     "name": "stdout",
     "output_type": "stream",
     "text": [
      "+--------+----------+------+-----------+\n",
      "|emp_name|       dep|salary|salary_rank|\n",
      "+--------+----------+------+-----------+\n",
      "|   Meena|     Sales|  4600|          1|\n",
      "|   Robin|     Sales|  4100|          2|\n",
      "|  Sharad|     Sales|  4100|          2|\n",
      "|     Ram|     Sales|  3000|          3|\n",
      "|     Ram|     Sales|  3000|          3|\n",
      "| Srishti|Management|  3300|          1|\n",
      "|    Jeny|   Finance|  3900|          1|\n",
      "|   Kunal|   Finance|  3000|          2|\n",
      "|  Hitesh| Marketing|  3000|          1|\n",
      "| Kailash| Marketing|  2000|          2|\n",
      "+--------+----------+------+-----------+\n",
      "\n"
     ]
    }
   ],
   "source": [
    "df_salary_rank.show()"
   ]
  },
  {
   "cell_type": "code",
   "execution_count": 54,
   "id": "71e0a001",
   "metadata": {},
   "outputs": [
    {
     "name": "stdout",
     "output_type": "stream",
     "text": [
      "Enter the value of n: 3\n",
      "n is:  3\n",
      "+--------+-----+------+-----------+\n",
      "|emp_name|  dep|salary|salary_rank|\n",
      "+--------+-----+------+-----------+\n",
      "|     Ram|Sales|  3000|          3|\n",
      "|     Ram|Sales|  3000|          3|\n",
      "+--------+-----+------+-----------+\n",
      "\n"
     ]
    }
   ],
   "source": [
    "n = int(input(\"Enter the value of n: \"))\n",
    "print(\"n is: \", n)\n",
    "df_salary_rank.filter(f\"salary_rank=={n}\").show()"
   ]
  }
 ],
 "metadata": {
  "kernelspec": {
   "display_name": "Python 3",
   "language": "python",
   "name": "python3"
  },
  "language_info": {
   "codemirror_mode": {
    "name": "ipython",
    "version": 3
   },
   "file_extension": ".py",
   "mimetype": "text/x-python",
   "name": "python",
   "nbconvert_exporter": "python",
   "pygments_lexer": "ipython3",
   "version": "3.8.8"
  }
 },
 "nbformat": 4,
 "nbformat_minor": 5
}
