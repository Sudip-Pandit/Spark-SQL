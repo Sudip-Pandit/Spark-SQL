{
 "cells": [
  {
   "cell_type": "code",
   "execution_count": 1,
   "id": "bc7560e7",
   "metadata": {},
   "outputs": [],
   "source": [
    "from pyspark.sql import SparkSession"
   ]
  },
  {
   "cell_type": "markdown",
   "id": "a8f2b34f",
   "metadata": {},
   "source": [
    "### Read the dataset"
   ]
  },
  {
   "cell_type": "code",
   "execution_count": 3,
   "id": "26f1ff5b",
   "metadata": {},
   "outputs": [],
   "source": [
    "spark = SparkSession.builder.appName(\"Spark-sql\").master(\"local[*]\").getOrCreate()"
   ]
  },
  {
   "cell_type": "code",
   "execution_count": 4,
   "id": "53417a91",
   "metadata": {},
   "outputs": [
    {
     "data": {
      "text/html": [
       "\n",
       "            <div>\n",
       "                <p><b>SparkSession - in-memory</b></p>\n",
       "                \n",
       "        <div>\n",
       "            <p><b>SparkContext</b></p>\n",
       "\n",
       "            <p><a href=\"http://LAPTOP-84FU76OH:4040\">Spark UI</a></p>\n",
       "\n",
       "            <dl>\n",
       "              <dt>Version</dt>\n",
       "                <dd><code>v3.1.2</code></dd>\n",
       "              <dt>Master</dt>\n",
       "                <dd><code>local[*]</code></dd>\n",
       "              <dt>AppName</dt>\n",
       "                <dd><code>Spark-sql</code></dd>\n",
       "            </dl>\n",
       "        </div>\n",
       "        \n",
       "            </div>\n",
       "        "
      ],
      "text/plain": [
       "<pyspark.sql.session.SparkSession at 0x1ee58b41bb0>"
      ]
     },
     "execution_count": 4,
     "metadata": {},
     "output_type": "execute_result"
    }
   ],
   "source": [
    "spark"
   ]
  },
  {
   "cell_type": "code",
   "execution_count": 5,
   "id": "09427503",
   "metadata": {},
   "outputs": [],
   "source": [
    "df = spark.read.format(\"csv\").option(\"header\", \"true\").option(\"inferSchema\", \"true\").load(\"movies.csv\")"
   ]
  },
  {
   "cell_type": "code",
   "execution_count": 6,
   "id": "7a43396f",
   "metadata": {},
   "outputs": [
    {
     "data": {
      "text/plain": [
       "Row(Film='Zack and Miri Make a Porno', Genre='Romance', Lead Studio='The Weinstein Company', Audience score %=70, Profitability=1.747541667, Rotten Tomatoes %=64, Worldwide Gross='$41.94 ', Year=2008)"
      ]
     },
     "execution_count": 6,
     "metadata": {},
     "output_type": "execute_result"
    }
   ],
   "source": [
    "df.head()"
   ]
  },
  {
   "cell_type": "code",
   "execution_count": 7,
   "id": "695bfe86",
   "metadata": {},
   "outputs": [
    {
     "name": "stdout",
     "output_type": "stream",
     "text": [
      "+--------------------+-------+--------------------+----------------+-------------+-----------------+---------------+----+\n",
      "|                Film|  Genre|         Lead Studio|Audience score %|Profitability|Rotten Tomatoes %|Worldwide Gross|Year|\n",
      "+--------------------+-------+--------------------+----------------+-------------+-----------------+---------------+----+\n",
      "|Zack and Miri Mak...|Romance|The Weinstein Com...|              70|  1.747541667|               64|        $41.94 |2008|\n",
      "|     Youth in Revolt| Comedy|The Weinstein Com...|              52|         1.09|               68|        $19.62 |2010|\n",
      "|You Will Meet a T...| Comedy|         Independent|              35|  1.211818182|               43|        $26.66 |2010|\n",
      "|        When in Rome| Comedy|              Disney|              44|          0.0|               15|        $43.04 |2010|\n",
      "|What Happens in V...| Comedy|                 Fox|              72|  6.267647029|               28|       $219.37 |2008|\n",
      "+--------------------+-------+--------------------+----------------+-------------+-----------------+---------------+----+\n",
      "only showing top 5 rows\n",
      "\n"
     ]
    }
   ],
   "source": [
    "df.show(5)"
   ]
  },
  {
   "cell_type": "code",
   "execution_count": 8,
   "id": "f0697452",
   "metadata": {},
   "outputs": [],
   "source": [
    "# Now change the column for easy sql queries\n",
    "df1 = df.withColumnRenamed(\"Lead Studio\", \"lead_studio\") \\\n",
    "     .withColumnRenamed(\"Audience score %\", \"audience_score\") \\\n",
    "     .withColumnRenamed(\"Rotten Tomatoes %\", 'RT') \\\n",
    "     .withColumnRenamed(\"Worldwide Gross\", \"Worldwide_Gross\")\n"
   ]
  },
  {
   "cell_type": "code",
   "execution_count": 9,
   "id": "585b3ffd",
   "metadata": {},
   "outputs": [
    {
     "name": "stdout",
     "output_type": "stream",
     "text": [
      "+--------------------+---------+--------------------+--------------+-------------+---+---------------+----+\n",
      "|                Film|    Genre|         lead_studio|audience_score|Profitability| RT|Worldwide_Gross|Year|\n",
      "+--------------------+---------+--------------------+--------------+-------------+---+---------------+----+\n",
      "|Zack and Miri Mak...|  Romance|The Weinstein Com...|            70|  1.747541667| 64|        $41.94 |2008|\n",
      "|     Youth in Revolt|   Comedy|The Weinstein Com...|            52|         1.09| 68|        $19.62 |2010|\n",
      "|You Will Meet a T...|   Comedy|         Independent|            35|  1.211818182| 43|        $26.66 |2010|\n",
      "|        When in Rome|   Comedy|              Disney|            44|          0.0| 15|        $43.04 |2010|\n",
      "|What Happens in V...|   Comedy|                 Fox|            72|  6.267647029| 28|       $219.37 |2008|\n",
      "| Water For Elephants|    Drama|    20th Century Fox|            72|  3.081421053| 60|       $117.09 |2011|\n",
      "|              WALL-E|Animation|              Disney|            89|  2.896019067| 96|       $521.28 |2008|\n",
      "|            Waitress|  Romance|         Independent|            67|   11.0897415| 89|        $22.18 |2007|\n",
      "| Waiting For Forever|  Romance|         Independent|            53|        0.005|  6|         $0.03 |2011|\n",
      "|     Valentine's Day|   Comedy|        Warner Bros.|            54|  4.184038462| 17|       $217.57 |2010|\n",
      "+--------------------+---------+--------------------+--------------+-------------+---+---------------+----+\n",
      "only showing top 10 rows\n",
      "\n"
     ]
    }
   ],
   "source": [
    "df1.show(10)"
   ]
  },
  {
   "cell_type": "markdown",
   "id": "08a8a9b3",
   "metadata": {},
   "source": [
    "### Create a temp view to start spark sql"
   ]
  },
  {
   "cell_type": "code",
   "execution_count": 11,
   "id": "18e6e7b2",
   "metadata": {},
   "outputs": [],
   "source": [
    "df1.createOrReplaceTempView(\"Movies\")"
   ]
  },
  {
   "cell_type": "code",
   "execution_count": 12,
   "id": "df3898dd",
   "metadata": {},
   "outputs": [
    {
     "name": "stdout",
     "output_type": "stream",
     "text": [
      "root\n",
      " |-- Film: string (nullable = true)\n",
      " |-- Genre: string (nullable = true)\n",
      " |-- lead_studio: string (nullable = true)\n",
      " |-- audience_score: integer (nullable = true)\n",
      " |-- Profitability: double (nullable = true)\n",
      " |-- RT: integer (nullable = true)\n",
      " |-- Worldwide_Gross: string (nullable = true)\n",
      " |-- Year: integer (nullable = true)\n",
      "\n"
     ]
    }
   ],
   "source": [
    "df1.printSchema()"
   ]
  },
  {
   "cell_type": "code",
   "execution_count": 15,
   "id": "78c77cc3",
   "metadata": {},
   "outputs": [
    {
     "name": "stdout",
     "output_type": "stream",
     "text": [
      "+--------------------+---------+---+\n",
      "|                Film|    Genre| RT|\n",
      "+--------------------+---------+---+\n",
      "|Zack and Miri Mak...|  Romance| 64|\n",
      "|     Youth in Revolt|   Comedy| 68|\n",
      "|You Will Meet a T...|   Comedy| 43|\n",
      "|        When in Rome|   Comedy| 15|\n",
      "|What Happens in V...|   Comedy| 28|\n",
      "| Water For Elephants|    Drama| 60|\n",
      "|              WALL-E|Animation| 96|\n",
      "|            Waitress|  Romance| 89|\n",
      "| Waiting For Forever|  Romance|  6|\n",
      "|     Valentine's Day|   Comedy| 17|\n",
      "+--------------------+---------+---+\n",
      "only showing top 10 rows\n",
      "\n"
     ]
    }
   ],
   "source": [
    "spark.sql(\"select Film, Genre, RT from Movies\").show(10)"
   ]
  },
  {
   "cell_type": "markdown",
   "id": "2dde2be1",
   "metadata": {},
   "source": [
    "### Use filter conditions"
   ]
  },
  {
   "cell_type": "code",
   "execution_count": 17,
   "id": "9119bfa4",
   "metadata": {},
   "outputs": [
    {
     "name": "stdout",
     "output_type": "stream",
     "text": [
      "+--------------------+-------+------------+--------------+-------------+---+---------------+----+\n",
      "|                Film|  Genre| lead_studio|audience_score|Profitability| RT|Worldwide_Gross|Year|\n",
      "+--------------------+-------+------------+--------------+-------------+---+---------------+----+\n",
      "|    The Back-up Plan| Comedy|         CBS|            47|  2.202571429| 20|        $77.09 |2010|\n",
      "|    Music and Lyrics|Romance|Warner Bros.|            70|   3.64741055| 63|       $145.90 |2007|\n",
      "|         The Duchess|  Drama|   Paramount|            68|  3.207850222| 60|        $43.31 |2008|\n",
      "|  Something Borrowed|Romance| Independent|            48|  1.719514286| 15|        $60.18 |2011|\n",
      "|Sex and the City Two| Comedy|Warner Bros.|            49|       2.8835| 15|       $288.35 |2010|\n",
      "|He's Just Not Tha...| Comedy|Warner Bros.|            60|       7.1536| 42|       $178.84 |2009|\n",
      "|     Valentine's Day| Comedy|Warner Bros.|            54|  4.184038462| 17|       $217.57 |2010|\n",
      "|     No Reservations| Comedy|Warner Bros.|            64|  3.307180357| 39|        $92.60 |2007|\n",
      "|           Jane Eyre|Romance|   Universal|            77|          0.0| 85|        $30.15 |2011|\n",
      "|            Twilight|Romance|      Summit|            82|  10.18002703| 49|       $376.66 |2008|\n",
      "+--------------------+-------+------------+--------------+-------------+---+---------------+----+\n",
      "only showing top 10 rows\n",
      "\n"
     ]
    }
   ],
   "source": [
    "df1.distinct().show(10)"
   ]
  },
  {
   "cell_type": "code",
   "execution_count": 26,
   "id": "d227d001",
   "metadata": {},
   "outputs": [
    {
     "name": "stdout",
     "output_type": "stream",
     "text": [
      "+--------------------+\n",
      "|         lead_studio|\n",
      "+--------------------+\n",
      "|The Weinstein Com...|\n",
      "|The Weinstein Com...|\n",
      "|         Independent|\n",
      "+--------------------+\n",
      "only showing top 3 rows\n",
      "\n"
     ]
    }
   ],
   "source": [
    "spark.sql(\"select lead_studio from Movies\").show(3)"
   ]
  },
  {
   "cell_type": "code",
   "execution_count": 34,
   "id": "95a50036",
   "metadata": {},
   "outputs": [
    {
     "name": "stdout",
     "output_type": "stream",
     "text": [
      "+--------------------+------+--------------------+--------------+-------------+---+---------------+----+\n",
      "|                Film| Genre|         lead_studio|audience_score|Profitability| RT|Worldwide_Gross|Year|\n",
      "+--------------------+------+--------------------+--------------+-------------+---+---------------+----+\n",
      "|     Youth in Revolt|Comedy|The Weinstein Com...|            52|         1.09| 68|        $19.62 |2010|\n",
      "|You Will Meet a T...|Comedy|         Independent|            35|  1.211818182| 43|        $26.66 |2010|\n",
      "|        When in Rome|Comedy|              Disney|            44|          0.0| 15|        $43.04 |2010|\n",
      "|What Happens in V...|Comedy|                 Fox|            72|  6.267647029| 28|       $219.37 |2008|\n",
      "|     Valentine's Day|Comedy|        Warner Bros.|            54|  4.184038462| 17|       $217.57 |2010|\n",
      "+--------------------+------+--------------------+--------------+-------------+---+---------------+----+\n",
      "only showing top 5 rows\n",
      "\n"
     ]
    }
   ],
   "source": [
    "df1.filter(df1.Genre == \"Comedy\").show(5)"
   ]
  },
  {
   "cell_type": "code",
   "execution_count": 35,
   "id": "71ba7511",
   "metadata": {},
   "outputs": [
    {
     "name": "stdout",
     "output_type": "stream",
     "text": [
      "+--------------------+------+--------------------+--------------+-------------+---+---------------+----+\n",
      "|                Film| Genre|         lead_studio|audience_score|Profitability| RT|Worldwide_Gross|Year|\n",
      "+--------------------+------+--------------------+--------------+-------------+---+---------------+----+\n",
      "|     Youth in Revolt|Comedy|The Weinstein Com...|            52|         1.09| 68|        $19.62 |2010|\n",
      "|You Will Meet a T...|Comedy|         Independent|            35|  1.211818182| 43|        $26.66 |2010|\n",
      "|        When in Rome|Comedy|              Disney|            44|          0.0| 15|        $43.04 |2010|\n",
      "|What Happens in V...|Comedy|                 Fox|            72|  6.267647029| 28|       $219.37 |2008|\n",
      "| Water For Elephants| Drama|    20th Century Fox|            72|  3.081421053| 60|       $117.09 |2011|\n",
      "+--------------------+------+--------------------+--------------+-------------+---+---------------+----+\n",
      "only showing top 5 rows\n",
      "\n"
     ]
    }
   ],
   "source": [
    "df1.filter(df1.audience_score != 70).show(5)"
   ]
  },
  {
   "cell_type": "code",
   "execution_count": 42,
   "id": "d3cc76f3",
   "metadata": {},
   "outputs": [
    {
     "name": "stdout",
     "output_type": "stream",
     "text": [
      "+--------------------+------+-----------+--------------+-------------+---+---------------+----+\n",
      "|                Film| Genre|lead_studio|audience_score|Profitability| RT|Worldwide_Gross|Year|\n",
      "+--------------------+------+-----------+--------------+-------------+---+---------------+----+\n",
      "|What Happens in V...|Comedy|        Fox|            72|  6.267647029| 28|       $219.37 |2008|\n",
      "|       Marley and Me|Comedy|        Fox|            77|  3.746781818| 63|       $206.07 |2008|\n",
      "|  Love & Other Drugs|Comedy|        Fox|            55|  1.817666667| 48|        $54.53 |2010|\n",
      "|         Just Wright|Comedy|        Fox|            58|  1.797416667| 45|        $21.57 |2010|\n",
      "|          27 Dresses|Comedy|        Fox|            71|    5.3436218| 40|       $160.31 |2008|\n",
      "+--------------------+------+-----------+--------------+-------------+---+---------------+----+\n",
      "\n"
     ]
    }
   ],
   "source": [
    "df1.filter( (df1.Genre  == \"Comedy\") & (df1.lead_studio  == \"Fox\")).show(5)  "
   ]
  },
  {
   "cell_type": "markdown",
   "id": "3c91d84d",
   "metadata": {},
   "source": [
    "### df.filter(df.state.startswith(\"N\")).show()"
   ]
  },
  {
   "cell_type": "code",
   "execution_count": 44,
   "id": "d7f8e30f",
   "metadata": {},
   "outputs": [
    {
     "name": "stdout",
     "output_type": "stream",
     "text": [
      "+--------------------+------+--------------------+--------------+-------------+---+---------------+----+\n",
      "|                Film| Genre|         lead_studio|audience_score|Profitability| RT|Worldwide_Gross|Year|\n",
      "+--------------------+------+--------------------+--------------+-------------+---+---------------+----+\n",
      "|     Youth in Revolt|Comedy|The Weinstein Com...|            52|         1.09| 68|        $19.62 |2010|\n",
      "|You Will Meet a T...|Comedy|         Independent|            35|  1.211818182| 43|        $26.66 |2010|\n",
      "|        When in Rome|Comedy|              Disney|            44|          0.0| 15|        $43.04 |2010|\n",
      "|What Happens in V...|Comedy|                 Fox|            72|  6.267647029| 28|       $219.37 |2008|\n",
      "+--------------------+------+--------------------+--------------+-------------+---+---------------+----+\n",
      "only showing top 4 rows\n",
      "\n"
     ]
    }
   ],
   "source": [
    "df1.filter(df1.Genre.startswith(\"C\")).show(4)"
   ]
  },
  {
   "cell_type": "markdown",
   "id": "19ba6d43",
   "metadata": {},
   "source": [
    "### #contains\n",
    "df.filter(df.state.contains(\"H\")).show()"
   ]
  },
  {
   "cell_type": "code",
   "execution_count": 45,
   "id": "080c3846",
   "metadata": {},
   "outputs": [
    {
     "name": "stdout",
     "output_type": "stream",
     "text": [
      "+----+-----+-----------+--------------+-------------+---+---------------+----+\n",
      "|Film|Genre|lead_studio|audience_score|Profitability| RT|Worldwide_Gross|Year|\n",
      "+----+-----+-----------+--------------+-------------+---+---------------+----+\n",
      "+----+-----+-----------+--------------+-------------+---+---------------+----+\n",
      "\n"
     ]
    }
   ],
   "source": [
    "df1.filter(df.Genre.contains(\"H\")).show(3)"
   ]
  },
  {
   "cell_type": "markdown",
   "id": "8f41e4df",
   "metadata": {},
   "source": [
    "### PySpark Filter like and rlike"
   ]
  },
  {
   "cell_type": "code",
   "execution_count": 47,
   "id": "10457970",
   "metadata": {},
   "outputs": [
    {
     "name": "stdout",
     "output_type": "stream",
     "text": [
      "+----+-----+-----------+--------------+-------------+---+---------------+----+\n",
      "|Film|Genre|lead_studio|audience_score|Profitability| RT|Worldwide_Gross|Year|\n",
      "+----+-----+-----------+--------------+-------------+---+---------------+----+\n",
      "+----+-----+-----------+--------------+-------------+---+---------------+----+\n",
      "\n"
     ]
    }
   ],
   "source": [
    "df1.filter(df1.Genre.like(\"%Cm%\")).show()"
   ]
  },
  {
   "cell_type": "markdown",
   "id": "ba9b64c3",
   "metadata": {},
   "source": [
    "### ## filter with multiple condition using sql.functions\n",
    "  \n",
    "from pyspark.sql import functions as f\n",
    " "
   ]
  },
  {
   "cell_type": "code",
   "execution_count": 49,
   "id": "875d447a",
   "metadata": {},
   "outputs": [
    {
     "name": "stdout",
     "output_type": "stream",
     "text": [
      "+--------------------+------+-----------+--------------+-------------+---+---------------+----+\n",
      "|                Film| Genre|lead_studio|audience_score|Profitability| RT|Worldwide_Gross|Year|\n",
      "+--------------------+------+-----------+--------------+-------------+---+---------------+----+\n",
      "|What Happens in V...|Comedy|        Fox|            72|  6.267647029| 28|       $219.37 |2008|\n",
      "|       Marley and Me|Comedy|        Fox|            77|  3.746781818| 63|       $206.07 |2008|\n",
      "|  Love & Other Drugs|Comedy|        Fox|            55|  1.817666667| 48|        $54.53 |2010|\n",
      "|         Just Wright|Comedy|        Fox|            58|  1.797416667| 45|        $21.57 |2010|\n",
      "|          27 Dresses|Comedy|        Fox|            71|    5.3436218| 40|       $160.31 |2008|\n",
      "+--------------------+------+-----------+--------------+-------------+---+---------------+----+\n",
      "\n"
     ]
    }
   ],
   "source": [
    "from pyspark.sql import functions as f\n",
    "df1.filter((f.col('Genre') == 'Comedy') & (f.col('lead_studio') == 'Fox')).show()"
   ]
  }
 ],
 "metadata": {
  "kernelspec": {
   "display_name": "Python 3",
   "language": "python",
   "name": "python3"
  },
  "language_info": {
   "codemirror_mode": {
    "name": "ipython",
    "version": 3
   },
   "file_extension": ".py",
   "mimetype": "text/x-python",
   "name": "python",
   "nbconvert_exporter": "python",
   "pygments_lexer": "ipython3",
   "version": "3.8.8"
  }
 },
 "nbformat": 4,
 "nbformat_minor": 5
}
